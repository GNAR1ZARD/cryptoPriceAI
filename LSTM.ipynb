{
 "cells": [
  {
   "cell_type": "code",
   "execution_count": 12,
   "id": "3c6d9631-813b-4b8c-bba6-4c7f522d6b4c",
   "metadata": {
    "tags": []
   },
   "outputs": [
    {
     "name": "stdout",
     "output_type": "stream",
     "text": [
      "Creating Enviroment...\n",
      "\n",
      "\n",
      "CondaValueError: prefix already exists: /Users/UNLV-Student/anaconda3/envs/pytorch_env\n",
      "\n",
      "Activating Enviroment...\n",
      "\n",
      "Installing Dependencies on Enviroment...\n",
      "\n",
      "Channels:\n",
      " - defaults\n",
      " - pytorch\n",
      "Platform: osx-arm64\n",
      "Collecting package metadata (repodata.json): done\n",
      "Solving environment: done\n",
      "\n",
      "# All requested packages already installed.\n",
      "\n",
      "Channels:\n",
      " - pytorch\n",
      " - defaults\n",
      "Platform: osx-arm64\n",
      "Collecting package metadata (repodata.json): done\n",
      "Solving environment: done\n",
      "\n",
      "# All requested packages already installed.\n",
      "\n"
     ]
    }
   ],
   "source": [
    "# Run this if you dont have dependencies insstalled:\n",
    "\n",
    "print(\"Creating Enviroment...\\n\")\n",
    "!conda create --name pytorch_env --yes\n",
    "print(\"Activating Enviroment...\\n\")\n",
    "!source activate pytorch_env\n",
    "print(\"Installing Dependencies on Enviroment...\\n\")\n",
    "!conda install numpy pandas scikit-learn matplotlib --yes\n",
    "!conda install pytorch::pytorch torchvision torchaudio -c pytorch --yes"
   ]
  },
  {
   "cell_type": "code",
   "execution_count": 14,
   "id": "0ee4f720-58f7-436b-ba7f-da81b6923265",
   "metadata": {
    "tags": []
   },
   "outputs": [
    {
     "ename": "ModuleNotFoundError",
     "evalue": "No module named 'torch'",
     "output_type": "error",
     "traceback": [
      "\u001b[0;31m---------------------------------------------------------------------------\u001b[0m",
      "\u001b[0;31mModuleNotFoundError\u001b[0m                       Traceback (most recent call last)",
      "Cell \u001b[0;32mIn[14], line 3\u001b[0m\n\u001b[1;32m      1\u001b[0m \u001b[38;5;66;03m# Dependencies\u001b[39;00m\n\u001b[0;32m----> 3\u001b[0m \u001b[38;5;28;01mimport\u001b[39;00m \u001b[38;5;21;01mtorch\u001b[39;00m\n\u001b[1;32m      4\u001b[0m \u001b[38;5;28;01mimport\u001b[39;00m \u001b[38;5;21;01mtorch\u001b[39;00m\u001b[38;5;21;01m.\u001b[39;00m\u001b[38;5;21;01mnn\u001b[39;00m \u001b[38;5;28;01mas\u001b[39;00m \u001b[38;5;21;01mnn\u001b[39;00m\n\u001b[1;32m      5\u001b[0m \u001b[38;5;28;01mimport\u001b[39;00m \u001b[38;5;21;01mtorch\u001b[39;00m\u001b[38;5;21;01m.\u001b[39;00m\u001b[38;5;21;01moptim\u001b[39;00m \u001b[38;5;28;01mas\u001b[39;00m \u001b[38;5;21;01moptim\u001b[39;00m\n",
      "\u001b[0;31mModuleNotFoundError\u001b[0m: No module named 'torch'"
     ]
    }
   ],
   "source": [
    "# Dependencies\n",
    "\n",
    "import torch\n",
    "import torch.nn as nn\n",
    "import torch.optim as optim\n",
    "import numpy as np\n",
    "import pandas as pd\n",
    "from sklearn.model_selection import train_test_split\n",
    "from sklearn.preprocessing import MinMaxScaler\n",
    "from torch.utils.data import DataLoader, TensorDataset\n",
    "import matplotlib.pyplot as plt"
   ]
  },
  {
   "cell_type": "code",
   "execution_count": null,
   "id": "51eafd6e-99b0-4cb2-8c0d-07db9c313e13",
   "metadata": {
    "tags": []
   },
   "outputs": [
    {
     "ename": "NameError",
     "evalue": "name 'pd' is not defined",
     "output_type": "error",
     "traceback": [
      "\u001b[0;31m---------------------------------------------------------------------------\u001b[0m",
      "\u001b[0;31mNameError\u001b[0m                                 Traceback (most recent call last)",
      "Cell \u001b[0;32mIn[1], line 4\u001b[0m\n\u001b[1;32m      1\u001b[0m \u001b[38;5;66;03m# Pre Processing\u001b[39;00m\n\u001b[1;32m      2\u001b[0m \n\u001b[1;32m      3\u001b[0m \u001b[38;5;66;03m# Load data from csv indexed by date\u001b[39;00m\n\u001b[0;32m----> 4\u001b[0m data \u001b[38;5;241m=\u001b[39m \u001b[43mpd\u001b[49m\u001b[38;5;241m.\u001b[39mread_csv(\u001b[38;5;124m'\u001b[39m\u001b[38;5;124mdata/bitcoin.csv\u001b[39m\u001b[38;5;124m'\u001b[39m)\n\u001b[1;32m      5\u001b[0m data\u001b[38;5;241m.\u001b[39mset_index(\u001b[38;5;124m'\u001b[39m\u001b[38;5;124mdate\u001b[39m\u001b[38;5;124m'\u001b[39m, inplace\u001b[38;5;241m=\u001b[39m\u001b[38;5;28;01mTrue\u001b[39;00m)\n\u001b[1;32m      7\u001b[0m \u001b[38;5;66;03m# Separate features from target\u001b[39;00m\n",
      "\u001b[0;31mNameError\u001b[0m: name 'pd' is not defined"
     ]
    }
   ],
   "source": [
    "# Pre Processing\n",
    "\n",
    "# Load data from csv indexed by date\n",
    "data = pd.read_csv('data/bitcoin.csv')\n",
    "data.set_index('date', inplace=True)\n",
    "\n",
    "# Separate features from target\n",
    "features = ['price', 'total_volume', 'market_cap']\n",
    "target = 'price'\n",
    "\n",
    "# Nomalize data\n",
    "scaler = MinMaxScaler(feature_range=(0, 1))\n",
    "data_scaled = scaler.fit_transform(data[features])\n",
    "\n",
    "# Function creates sequences out of data\n",
    "def create_sequences(data, seq_length):\n",
    "    xs, ys = [], []\n",
    "    for i in range(len(data)-seq_length):\n",
    "        x = data[i:(i+seq_length), :-1]\n",
    "        y = data[i+seq_length, 0]\n",
    "        xs.append(x)\n",
    "        ys.append(y)\n",
    "    return np.array(xs), np.array(ys)\n",
    "\n",
    "seq_length = 10\n",
    "X, y = create_sequences(data_scaled, seq_length)\n",
    "\n",
    "# Create tensors for PyTorch\n",
    "X_tensor = torch.FloatTensor(X)\n",
    "y_tensor = torch.FloatTensor(y).view(-1, 1)\n",
    "\n",
    "# Split the dataset for training and testing\n",
    "X_train, X_test, y_train, y_test = train_test_split(X_tensor, y_tensor, test_size=0.2, random_state=6969)\n",
    "\n",
    "# Prepare data for batching\n",
    "train_data = TensorDataset(X_train, y_train)\n",
    "test_data = TensorDataset(X_test, y_test)\n",
    "\n",
    "batch_size = 64\n",
    "train_loader = DataLoader(train_data, shuffle=True, batch_size=batch_size)\n",
    "test_loader = DataLoader(test_data, batch_size=batch_size)"
   ]
  },
  {
   "cell_type": "code",
   "execution_count": null,
   "id": "d09c8ac0-f1be-4af8-bfc2-82405fde28a6",
   "metadata": {
    "tags": []
   },
   "outputs": [
    {
     "ename": "NameError",
     "evalue": "name 'nn' is not defined",
     "output_type": "error",
     "traceback": [
      "\u001b[0;31m---------------------------------------------------------------------------\u001b[0m",
      "\u001b[0;31mNameError\u001b[0m                                 Traceback (most recent call last)",
      "Cell \u001b[0;32mIn[10], line 2\u001b[0m\n\u001b[1;32m      1\u001b[0m \u001b[38;5;66;03m# Define Long Short-Term Memory (LSTM) machine learning model\u001b[39;00m\n\u001b[0;32m----> 2\u001b[0m \u001b[38;5;28;01mclass\u001b[39;00m \u001b[38;5;21;01mCryptocurrency_LSTM_model\u001b[39;00m(\u001b[43mnn\u001b[49m\u001b[38;5;241m.\u001b[39mModule):\n\u001b[1;32m      3\u001b[0m     \u001b[38;5;66;03m# initialize class\u001b[39;00m\n\u001b[1;32m      4\u001b[0m     \u001b[38;5;28;01mdef\u001b[39;00m \u001b[38;5;21m__init__\u001b[39m(\u001b[38;5;28mself\u001b[39m, input_size, hidden_layer_size\u001b[38;5;241m=\u001b[39m\u001b[38;5;241m50\u001b[39m, output_size\u001b[38;5;241m=\u001b[39m\u001b[38;5;241m1\u001b[39m):\n\u001b[1;32m      5\u001b[0m         \u001b[38;5;28msuper\u001b[39m(Cryptocurrency_LSTM_model, \u001b[38;5;28mself\u001b[39m)\u001b[38;5;241m.\u001b[39m\u001b[38;5;21m__init__\u001b[39m()\n",
      "\u001b[0;31mNameError\u001b[0m: name 'nn' is not defined"
     ]
    }
   ],
   "source": [
    "# Define Long Short-Term Memory (LSTM) machine learning model\n",
    "class Cryptocurrency_LSTM_model(nn.Module):\n",
    "    # initialize class\n",
    "    def __init__(self, input_size, hidden_layer_size=50, output_size=1):\n",
    "        super(Cryptocurrency_LSTM_model, self).__init__()\n",
    "        self.hidden_layer_size = hidden_layer_size\n",
    "        self.lstm = nn.LSTM(input_size, hidden_layer_size, batch_first=True)\n",
    "        self.linear = nn.Linear(hidden_layer_size, output_size)\n",
    "\n",
    "    # define process of feeding input data trough neural net\n",
    "    def forward(self, input_seq):\n",
    "        lstm_out, _ = self.lstm(input_seq)\n",
    "        lstm_out = lstm_out[:, -1, :]\n",
    "        predictions = self.linear(lstm_out)\n",
    "        return predictions\n",
    "\n",
    "model = Cryptocurrency_LSTM_model(input_size=2)  # Including 'price' along with 'total_volume' and 'market_cap'"
   ]
  },
  {
   "cell_type": "code",
   "execution_count": null,
   "id": "606d7f73-6b48-40bf-ab64-4510417c5a7f",
   "metadata": {
    "tags": []
   },
   "outputs": [
    {
     "ename": "NameError",
     "evalue": "name 'nn' is not defined",
     "output_type": "error",
     "traceback": [
      "\u001b[0;31m---------------------------------------------------------------------------\u001b[0m",
      "\u001b[0;31mNameError\u001b[0m                                 Traceback (most recent call last)",
      "Cell \u001b[0;32mIn[6], line 4\u001b[0m\n\u001b[1;32m      1\u001b[0m \u001b[38;5;66;03m# Training Model\u001b[39;00m\n\u001b[1;32m      2\u001b[0m \n\u001b[1;32m      3\u001b[0m \u001b[38;5;66;03m# define loss function\u001b[39;00m\n\u001b[0;32m----> 4\u001b[0m loss_function \u001b[38;5;241m=\u001b[39m \u001b[43mnn\u001b[49m\u001b[38;5;241m.\u001b[39mMSELoss()\n\u001b[1;32m      5\u001b[0m optimizer \u001b[38;5;241m=\u001b[39m optim\u001b[38;5;241m.\u001b[39mAdam(model\u001b[38;5;241m.\u001b[39mparameters(), lr\u001b[38;5;241m=\u001b[39m\u001b[38;5;241m0.001\u001b[39m)\n\u001b[1;32m      8\u001b[0m \u001b[38;5;66;03m# track start time for plotting\u001b[39;00m\n",
      "\u001b[0;31mNameError\u001b[0m: name 'nn' is not defined"
     ]
    }
   ],
   "source": [
    "# Training Model\n",
    "\n",
    "# define loss function\n",
    "loss_function = nn.MSELoss()\n",
    "optimizer = optim.Adam(model.parameters(), lr=0.001)\n",
    "\n",
    "\n",
    "# track start time for plotting\n",
    "import time\n",
    "start_time = time.time()\n",
    "\n",
    "from IPython.display import clear_output\n",
    "\n",
    "# Function to plot losses and show elapsed time\n",
    "def plot_losses_with_time(losses, start_time):\n",
    "    elapsed_time = time.time() - start_time\n",
    "    clear_output(wait=True)  # Clear the existing output\n",
    "    \n",
    "    plt.figure(figsize=(10,5))\n",
    "    plt.plot(losses, label='Training Loss')\n",
    "    plt.xlabel('Epoch')\n",
    "    plt.ylabel('Loss')\n",
    "    plt.title(f'Training Loss - Time elapsed: {elapsed_time:.2f} seconds')\n",
    "    plt.legend()\n",
    "    plt.show()\n",
    "\n",
    "# set this depending on how long you want to be training model\n",
    "epochs = 500\n",
    "\n",
    "# store losses for plotting\n",
    "losses = []\n",
    "\n",
    "for i in range(epochs):\n",
    "    for seq, labels in train_loader:\n",
    "        optimizer.zero_grad()\n",
    "        y_pred = model(seq)\n",
    "        single_loss = loss_function(y_pred, labels)\n",
    "        single_loss.backward()\n",
    "        optimizer.step()\n",
    "    \n",
    "    # adjust as needed\n",
    "    if i % 10 == 0:\n",
    "        # if you want to print loss updates\n",
    "        # print(f'epoch: {i:3} loss: {single_loss.item():10.8f}')\n",
    "        losses.append(single_loss.item())\n",
    "\n",
    "    # adjust as needed\n",
    "    if i % 100 == 0:\n",
    "        clear_output(wait=True)\n",
    "        plot_losses_with_time(losses, start_time)\n",
    "        display(plt.gcf())\n",
    "        plt.close()\n",
    "        \n",
    "# Graph updates every 100 epochs about every 10 seconds on M1 mac"
   ]
  },
  {
   "cell_type": "code",
   "execution_count": 13,
   "id": "7b05db8e-6df0-4651-a795-cb8bcf28a821",
   "metadata": {
    "tags": []
   },
   "outputs": [
    {
     "ename": "ModuleNotFoundError",
     "evalue": "No module named 'sklearn'",
     "output_type": "error",
     "traceback": [
      "\u001b[0;31m---------------------------------------------------------------------------\u001b[0m",
      "\u001b[0;31mModuleNotFoundError\u001b[0m                       Traceback (most recent call last)",
      "Cell \u001b[0;32mIn[13], line 3\u001b[0m\n\u001b[1;32m      1\u001b[0m \u001b[38;5;66;03m# Evaluating model\u001b[39;00m\n\u001b[0;32m----> 3\u001b[0m \u001b[38;5;28;01mfrom\u001b[39;00m \u001b[38;5;21;01msklearn\u001b[39;00m\u001b[38;5;21;01m.\u001b[39;00m\u001b[38;5;21;01mmetrics\u001b[39;00m \u001b[38;5;28;01mimport\u001b[39;00m mean_squared_error\n\u001b[1;32m      5\u001b[0m \u001b[38;5;66;03m# check if GPU available\u001b[39;00m\n\u001b[1;32m      6\u001b[0m device \u001b[38;5;241m=\u001b[39m torch\u001b[38;5;241m.\u001b[39mdevice(\u001b[38;5;124m\"\u001b[39m\u001b[38;5;124mcuda\u001b[39m\u001b[38;5;124m\"\u001b[39m \u001b[38;5;28;01mif\u001b[39;00m torch\u001b[38;5;241m.\u001b[39mcuda\u001b[38;5;241m.\u001b[39mis_available() \u001b[38;5;28;01melse\u001b[39;00m \u001b[38;5;124m\"\u001b[39m\u001b[38;5;124mcpu\u001b[39m\u001b[38;5;124m\"\u001b[39m)\n",
      "\u001b[0;31mModuleNotFoundError\u001b[0m: No module named 'sklearn'"
     ]
    }
   ],
   "source": [
    "# Evaluating model\n",
    "\n",
    "from sklearn.metrics import mean_squared_error\n",
    "\n",
    "# check if GPU available\n",
    "device = torch.device(\"cuda\" if torch.cuda.is_available() else \"cpu\")\n",
    "\n",
    "print(f\"Using device: {device}\")\n",
    "\n",
    "model.eval()\n",
    "preds = []\n",
    "true_labels = []\n",
    "with torch.no_grad():\n",
    "    for seq, labels in test_loader:\n",
    "        seq = seq.to(device)\n",
    "        y_test_pred = model(seq)\n",
    "        preds.append(y_test_pred.cpu())\n",
    "        true_labels.append(labels)\n",
    "\n",
    "preds = torch.cat(preds, dim=0).numpy()\n",
    "true_labels = torch.cat(true_labels, dim=0).numpy()\n",
    "\n",
    "# print evaluated error\n",
    "mse = mean_squared_error(true_labels, preds)\n",
    "print(f\"Test MSE: {mse}\")\n"
   ]
  },
  {
   "cell_type": "code",
   "execution_count": null,
   "id": "b1f7064f-3a18-4962-98fa-b71124c2b6a9",
   "metadata": {
    "tags": []
   },
   "outputs": [],
   "source": [
    "# Predicting future price\n",
    "\n",
    "model.eval()\n",
    "\n",
    "# Start predictions from last point in dataset\n",
    "last_sequence = X_test[-1].unsqueeze(0)\n",
    "predictions = []\n",
    "\n",
    "# set how many days you want to predict range(days)\n",
    "for _ in range(100):\n",
    "    with torch.no_grad():\n",
    "        prediction = model(last_sequence)\n",
    "        predictions.append(prediction.item())\n",
    "        feature_size = last_sequence.shape[2]\n",
    "        prediction_adjusted = prediction.view(1, 1, 1).expand(-1, -1, feature_size)\n",
    "        new_sequence = torch.cat((last_sequence[:, 1:, :], prediction_adjusted), dim=1)\n",
    "        last_sequence = new_sequence\n",
    "        \n",
    "# Placeholder for predictions\n",
    "placeholder = np.zeros((len(predictions), 3))\n",
    "placeholder[:, 0] = predictions\n",
    "\n",
    "# Reverse normalization to get real price\n",
    "predicted_prices_transformed = scaler.inverse_transform(placeholder)\n",
    "predicted_prices = predicted_prices_transformed[:, 0]"
   ]
  },
  {
   "cell_type": "code",
   "execution_count": null,
   "id": "ee598a55-f3e6-4b62-a7f1-ec03be309955",
   "metadata": {
    "tags": []
   },
   "outputs": [],
   "source": [
    "# Plot predicted prices\n",
    "\n",
    "actual_data = data['price']\n",
    "\n",
    "# Combining historical and predicted prices for plotting\n",
    "combined_days = np.arange(-len(actual_data), len(predicted_prices))\n",
    "combined_prices = np.concatenate((actual_data, predicted_prices))\n",
    "\n",
    "# Plotting\n",
    "plt.figure(figsize=(12, 7))\n",
    "plt.plot(combined_days[:len(actual_data)], actual_data, color='grey', label='Historical Bitcoin Price', alpha=0.5)\n",
    "plt.plot(combined_days[len(actual_data)-1:], combined_prices[len(actual_data)-1:], color='blue', label='Predicted Bitcoin Price')\n",
    "plt.title('Bitcoin Price: Historical and Predicted')\n",
    "plt.xlabel('Days from Now')\n",
    "plt.ylabel('Price in USD')\n",
    "plt.legend()\n",
    "plt.grid(True)\n",
    "plt.show()\n"
   ]
  },
  {
   "cell_type": "code",
   "execution_count": null,
   "id": "e3e6622c-9681-4e5d-8e6c-57a5a5df87f1",
   "metadata": {},
   "outputs": [],
   "source": []
  }
 ],
 "metadata": {
  "kernelspec": {
   "display_name": "Python 3 (ipykernel)",
   "language": "python",
   "name": "python3"
  },
  "language_info": {
   "codemirror_mode": {
    "name": "ipython",
    "version": 3
   },
   "file_extension": ".py",
   "mimetype": "text/x-python",
   "name": "python",
   "nbconvert_exporter": "python",
   "pygments_lexer": "ipython3",
   "version": "3.12.2"
  },
  "toc-autonumbering": true
 },
 "nbformat": 4,
 "nbformat_minor": 5
}
